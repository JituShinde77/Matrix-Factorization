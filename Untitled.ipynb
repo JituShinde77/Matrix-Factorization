{
 "cells": [
  {
   "cell_type": "code",
   "execution_count": 1,
   "metadata": {},
   "outputs": [],
   "source": [
    "import random"
   ]
  },
  {
   "cell_type": "code",
   "execution_count": 2,
   "metadata": {},
   "outputs": [],
   "source": [
    "def create_MAT(rows, cols):\n",
    "    m = []\n",
    "    for i in range(rows):\n",
    "        r = []\n",
    "        for j in range(cols):\n",
    "            #r.append(random.random())\n",
    "            r.append(1)\n",
    "        m.append(r)\n",
    "    return m"
   ]
  },
  {
   "cell_type": "code",
   "execution_count": 3,
   "metadata": {},
   "outputs": [],
   "source": [
    "def mat_mul(a, b):\n",
    "    user_mat = []\n",
    "    for i in range(len(a)):\n",
    "        row = []\n",
    "        for j in range(len(a)):\n",
    "            val = 0\n",
    "            for k in range(len(b)):\n",
    "                val +=a[j][k] * b[k][j]\n",
    "            row.append(val)\n",
    "        user_mat.append(row)\n",
    "    return user_mat   "
   ]
  },
  {
   "cell_type": "code",
   "execution_count": 5,
   "metadata": {},
   "outputs": [],
   "source": [
    "def mat_diff(X, user_mat):\n",
    "    diff_sum = []\n",
    "    for i in range(len(X)):\n",
    "        for j in range(len(X[0])):\n",
    "            diff_sum.append((X[i][j] - user_mat[i][j]))\n",
    "    sum(diff_sum)\n",
    "    return sum(diff_sum)"
   ]
  },
  {
   "cell_type": "code",
   "execution_count": null,
   "metadata": {},
   "outputs": [],
   "source": [
    "def gradient(X, a, b, row, col, wrt_row=False, wrt_col=False):\n",
    "    \n",
    "    actual = X[wrt_row][wrt_col]\n",
    "    pred = 0\n",
    "    \n",
    "   \n",
    "    for i in range(len(a[0])):\n",
    "            pred += a[row][i]* b[i][col]\n",
    "    if wrt_row:\n",
    "        grad = 2*(actual - pred)*b[row][col]\n",
    "    elif wrt_col:\n",
    "        for i in range(len(a[0])):\n",
    "            pred += a[row][i]* b[i][col]\n",
    "        grad = 2*(actual - pred)*a[row][col]\n",
    "    \n",
    "    return grad"
   ]
  },
  {
   "cell_type": "code",
   "execution_count": null,
   "metadata": {},
   "outputs": [],
   "source": [
    "def diffP(X, a, b,  row, col, wrt_row=False, wrt_col=False):\n",
    "    \n",
    "    actual = X[wrt_row][wrt_col]\n",
    "    pred = 0\n",
    "    "
   ]
  }
 ],
 "metadata": {
  "kernelspec": {
   "display_name": "Python 3",
   "language": "python",
   "name": "python3"
  },
  "language_info": {
   "codemirror_mode": {
    "name": "ipython",
    "version": 3
   },
   "file_extension": ".py",
   "mimetype": "text/x-python",
   "name": "python",
   "nbconvert_exporter": "python",
   "pygments_lexer": "ipython3",
   "version": "3.7.8"
  }
 },
 "nbformat": 4,
 "nbformat_minor": 2
}
